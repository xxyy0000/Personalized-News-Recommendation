{
 "cells": [
  {
   "cell_type": "code",
   "execution_count": null,
   "metadata": {},
   "outputs": [],
   "source": [
    "import os\n",
    "os.chdir('..')\n",
    "os.getcwd()"
   ]
  },
  {
   "cell_type": "code",
   "execution_count": null,
   "metadata": {},
   "outputs": [],
   "source": [
    "%load_ext autoreload\n",
    "%autoreload 2\n",
    "from bandits import *\n",
    "from evaluator import evaluate\n",
    "from matplotlib import pyplot as plt\n",
    "import pandas as pd"
   ]
  },
  {
   "cell_type": "code",
   "execution_count": null,
   "metadata": {},
   "outputs": [],
   "source": [
    "%%time\n",
    "import dataset\n",
    "files = (\"dataset/R6/ydata-fp-td-clicks-v1_020090504\",\"dataset/R6/ydata-fp-td-clicks-v1_020090505\")\n",
    "dataset.get_yahoo_events(files)"
   ]
  },
  {
   "cell_type": "code",
   "execution_count": null,
   "metadata": {},
   "outputs": [],
   "source": [
    "_, deploy = evaluate(Egreedy(1))\n",
    "rnd_ctr = deploy[-1]"
   ]
  },
  {
   "cell_type": "code",
   "execution_count": null,
   "metadata": {},
   "outputs": [],
   "source": [
    "results = [['Size','Bucket','Algorithm','CTR Lift']]\n",
    "\n",
    "algorithms = [Egreedy(0.1),Ucb1(0.1),LinUCB(0.3, context=\"both\"), LinUCB(0.3, context=\"user\"),ThompsonSampling()]\n",
    "\n",
    "for test in algorithms:\n",
    "    learn ,deploy = evaluate(test,size=size)\n",
    "    results.append([100'learn',test.algorithm, learn[-1]/rnd_ctr])\n",
    "    results.append([100,'deploy',test.algorithm, deploy[-1]/rnd_ctr])\n",
    "    plt.plot(deploy[100:30000], label=test.algorithm)\n",
    "        \n",
    "plt.title(\"Algorithms\")\n",
    "plt.xlabel(\"T\")\n",
    "plt.ylabel(\"CTR\")\n",
    "plt.legend(loc='center left', bbox_to_anchor=(1, 0.5))\n",
    "plt.show()"
   ]
  },
  {
   "cell_type": "code",
   "execution_count": null,
   "metadata": {},
   "outputs": [],
   "source": [
    "df = pd.DataFrame(results)\n",
    "df.columns = df.iloc[0]\n",
    "df = df[1:]\n",
    "df"
   ]
  }
 ],
 "metadata": {
  "kernelspec": {
   "display_name": "Python 3",
   "language": "python",
   "name": "python3"
  },
  "language_info": {
   "name": "python",
   "version": "3.7.3"
  },
  "orig_nbformat": 4,
  "vscode": {
   "interpreter": {
    "hash": "63e65744233e4a7d9cb50c44186c8e2063928b22ae6030536c892db7d3d1affd"
   }
  }
 },
 "nbformat": 4,
 "nbformat_minor": 2
}
